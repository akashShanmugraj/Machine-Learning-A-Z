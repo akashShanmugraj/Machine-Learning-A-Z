{
 "cells": [
  {
   "cell_type": "markdown",
   "source": [
    "## I Found this error in Section 7: Support-Vector-Regression's Python version\n",
    "###### There where some instances where the functions of sklearn won't accept arrays as in the course. I am not sure why these errors occurred. I explored the module files and used the error raised by the program to fix these.\n",
    "##### My numpy version is 1.22.4 and scikit-learn version is 1.1.1"
   ],
   "metadata": {
    "collapsed": false
   }
  },
  {
   "cell_type": "code",
   "execution_count": 4,
   "outputs": [],
   "source": [
    "import pandas as pd\n",
    "dataset = pd.read_csv('Position_Salaries.csv')\n",
    "X = dataset.iloc[:,1:-1].values\n",
    "y = dataset.iloc[:,-1].values\n",
    "y = y.reshape(len(y), 1)"
   ],
   "metadata": {
    "collapsed": false
   }
  },
  {
   "cell_type": "markdown",
   "source": [
    "### While training the SVR model,\n",
    "The regressor won't accept array 'y' in the 'regressor.fit(X,y)' statement\n",
    "I had to use .ravel() method on the array 'y' and then pass it to the fit()\n",
    "\n",
    "\n",
    "Apparently, the ravel() method reshapes 'y' into an 1D horizontal array"
   ],
   "metadata": {
    "collapsed": false
   }
  },
  {
   "cell_type": "code",
   "execution_count": 6,
   "metadata": {
    "collapsed": true
   },
   "outputs": [
    {
     "name": "stdout",
     "output_type": "stream",
     "text": [
      "The array 'y' is [[  45000]\n",
      " [  50000]\n",
      " [  60000]\n",
      " [  80000]\n",
      " [ 110000]\n",
      " [ 150000]\n",
      " [ 200000]\n",
      " [ 300000]\n",
      " [ 500000]\n",
      " [1000000]] \n",
      "\n",
      " The array after using ravel() method is [  45000   50000   60000   80000  110000  150000  200000  300000  500000\n",
      " 1000000]\n"
     ]
    }
   ],
   "source": [
    "import numpy as np\n",
    "print(\"The array 'y' is\", y, '\\n\\n',\"The array after using ravel() method is\", np.ravel(y))"
   ]
  },
  {
   "cell_type": "markdown",
   "source": [
    "#### Now pass 'np.ravel(y)' as second parameter to the .fit() method of SVR Class,\n",
    "###### regressor.fit( X, np.ravel(y) )"
   ],
   "metadata": {
    "collapsed": false
   }
  },
  {
   "cell_type": "markdown",
   "source": [
    "### While predicting a new result,\n",
    "We first scale the feature in terms of X, and then the new scaled value is passed to the predict() method. The predict method returns an 1-Dimensional Array, which cannot be passed to inverse_tranformation() method.\n",
    "Hence we should add an extra square paranthesis to change it into a 2-Dimensional Array"
   ],
   "metadata": {
    "collapsed": false
   }
  },
  {
   "cell_type": "code",
   "execution_count": null,
   "outputs": [],
   "source": [
    "sc_y.inverse_transform([regressor.predict(sc_X.transform([[6.5]]))])"
   ],
   "metadata": {
    "collapsed": false
   }
  }
 ],
 "metadata": {
  "kernelspec": {
   "display_name": "Python 3",
   "language": "python",
   "name": "python3"
  },
  "language_info": {
   "codemirror_mode": {
    "name": "ipython",
    "version": 2
   },
   "file_extension": ".py",
   "mimetype": "text/x-python",
   "name": "python",
   "nbconvert_exporter": "python",
   "pygments_lexer": "ipython2",
   "version": "2.7.6"
  }
 },
 "nbformat": 4,
 "nbformat_minor": 0
}
